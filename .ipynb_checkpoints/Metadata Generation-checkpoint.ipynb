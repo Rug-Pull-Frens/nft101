{
 "cells": [
  {
   "cell_type": "code",
   "execution_count": 3,
   "metadata": {},
   "outputs": [],
   "source": [
    "# import python library\n",
    "import json"
   ]
  },
  {
   "cell_type": "code",
   "execution_count": 4,
   "metadata": {},
   "outputs": [],
   "source": [
    "# metadata generation\n",
    "# 100個 metadata，tokenId 從 1開始起算\n",
    "for i in range(1,101):\n",
    "    # 寫入metadata的內容\n",
    "    # 詳情可參考：https://docs.opensea.io/docs/metadata-standards\n",
    "    \n",
    "    metadata = {\n",
    "        \"name\": \"Handsome Guys #\" + str(i),\n",
    "        \"description\": \"哈囉！大家好\", \n",
    "        \"attributes\": [\n",
    "            {\n",
    "                \"trait_type\": \"與談人\",\n",
    "                \"value\": \"3位\"\n",
    "            },\n",
    "            {\n",
    "                \"trait_type\": \"觀眾人數\",\n",
    "                \"value\": \"2000\"\n",
    "            }\n",
    "        ],\n",
    "        \"image\": \"ipfs://QmNyycrkPvuRznVNNxqi8tF9Ffj2f5EVBBaGBnNwzSsr91\",\n",
    "    }\n",
    "    \n",
    "    # 寫入metadata到指定folder\n",
    "    with open(\"metadata/\"+str(i),\"w\") as file_obj:\n",
    "        file_obj.write(json.dumps(metadata))\n",
    "    "
   ]
  }
 ],
 "metadata": {
  "kernelspec": {
   "display_name": "Python 3",
   "language": "python",
   "name": "python3"
  },
  "language_info": {
   "codemirror_mode": {
    "name": "ipython",
    "version": 3
   },
   "file_extension": ".py",
   "mimetype": "text/x-python",
   "name": "python",
   "nbconvert_exporter": "python",
   "pygments_lexer": "ipython3",
   "version": "3.8.3"
  }
 },
 "nbformat": 4,
 "nbformat_minor": 4
}
